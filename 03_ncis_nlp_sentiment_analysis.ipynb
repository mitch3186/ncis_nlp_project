{
 "cells": [
  {
   "cell_type": "markdown",
   "metadata": {},
   "source": [
    "## The CBS Secret Sauce Investigation: NCIS:NLP -- Sentiment Analysis\n",
    "\n",
    "#### Creator: Mitch Brinkman"
   ]
  },
  {
   "cell_type": "code",
   "execution_count": null,
   "metadata": {},
   "outputs": [],
   "source": [
    "import pandas as pd\n",
    "import numpy as np\n",
    "import datetime as dt\n",
    "import matplotlib.pyplot as plt\n",
    "import seaborn as sns\n",
    "import statsmodels.formula.api as smf\n",
    "import patsy\n",
    "import re\n",
    "import pickle\n",
    "import string\n",
    "from sklearn.feature_extraction.text import CountVectorizer"
   ]
  },
  {
   "cell_type": "code",
   "execution_count": null,
   "metadata": {},
   "outputs": [],
   "source": [
    "ncis = pd.read_pickle('./data/processed/ncis_sentiment.pkl')\n",
    "shield = pd.read_pickle('./data/processed/shield_sentiment.pkl')"
   ]
  },
  {
   "cell_type": "code",
   "execution_count": null,
   "metadata": {},
   "outputs": [],
   "source": [
    "ncis.tail(100)"
   ]
  },
  {
   "cell_type": "markdown",
   "metadata": {},
   "source": [
    "#### The Shield Sentiment"
   ]
  },
  {
   "cell_type": "code",
   "execution_count": null,
   "metadata": {},
   "outputs": [],
   "source": [
    "# Create quick lambda functions to find the polarity and subjectivity of each routine\n",
    "# Terminal / Anaconda Navigator: conda install -c conda-forge textblob\n",
    "from textblob import TextBlob\n",
    "\n",
    "pol = lambda x: TextBlob(x).sentiment.polarity\n",
    "\n",
    "\n",
    "shield['polarity'] = shield['dialogue'].apply(pol)"
   ]
  },
  {
   "cell_type": "code",
   "execution_count": null,
   "metadata": {},
   "outputs": [],
   "source": [
    "shield['polarity'].mean()"
   ]
  },
  {
   "cell_type": "code",
   "execution_count": null,
   "metadata": {},
   "outputs": [],
   "source": [
    "shield.head()"
   ]
  },
  {
   "cell_type": "code",
   "execution_count": null,
   "metadata": {},
   "outputs": [],
   "source": [
    "shield.reset_index(inplace=True)"
   ]
  },
  {
   "cell_type": "code",
   "execution_count": null,
   "metadata": {},
   "outputs": [],
   "source": [
    "shield[['sea','#']] = shield.ep_id.str.split('/',expand=True)"
   ]
  },
  {
   "cell_type": "code",
   "execution_count": null,
   "metadata": {},
   "outputs": [],
   "source": [
    "shield_sea_sent = shield.groupby(['sea'],as_index=False,sort=False)['polarity'].mean()\n",
    "shield_sea_sent"
   ]
  },
  {
   "cell_type": "code",
   "execution_count": null,
   "metadata": {},
   "outputs": [],
   "source": [
    "# Let's plot the results\n",
    "import matplotlib.pyplot as plt\n",
    "\n",
    "plt.rcParams['figure.figsize'] = [18, 14]\n",
    "sns.set(font_scale = 1.4)\n",
    "for index, dialogue in enumerate(shield.index):\n",
    "    x = shield_sea_sent.sea\n",
    "    y = shield_sea_sent.polarity\n",
    "    plt.plot(x, y, color='red')\n",
    "#     plt.text(x+.001, y+.001, ncis['episode'][index], fontsize=10)\n",
    "    plt.ylim(.05, .15) \n",
    "    \n",
    "# plt.figure(figsize=(15,12))\n",
    "plt.xticks(rotation=20)\n",
    "plt.title('The Shield: Season Sentiment Analysis', fontsize=20)\n",
    "plt.xlabel('<-- Season 1 -------- Season 7 -->', fontsize=15)\n",
    "plt.ylabel('<-- Negative -------- Positive -->', fontsize=15)\n",
    "\n",
    "plt.savefig('shield_sentiment.png');\n",
    "plt.show()"
   ]
  },
  {
   "cell_type": "code",
   "execution_count": null,
   "metadata": {},
   "outputs": [],
   "source": [
    "# Let's plot the results\n",
    "import matplotlib.pyplot as plt\n",
    "\n",
    "plt.rcParams['figure.figsize'] = [18, 14]\n",
    "sns.set(font_scale = 1.4)\n",
    "for index, dialogue in enumerate(shield.index):\n",
    "    x = shield.ep_id\n",
    "    y = shield.polarity\n",
    "    plt.plot(x, y, color='red')\n",
    "#     plt.text(x+.001, y+.001, ncis['episode'][index], fontsize=10)\n",
    "#     plt.xlim(-.01, .12) \n",
    "    \n",
    "# plt.figure(figsize=(15,12))\n",
    "plt.title('The Shield: Per Episode Sentiment Analysis', fontsize=20)\n",
    "plt.xlabel('<-- Season 1 -------- Season 7 -->', fontsize=15)\n",
    "plt.ylabel('<-- Negative -------- Positive -->', fontsize=15)\n",
    "\n",
    "plt.savefig('shield_sentiment.png');\n",
    "plt.show()"
   ]
  },
  {
   "cell_type": "markdown",
   "metadata": {},
   "source": [
    "#### NCIS Sentiment"
   ]
  },
  {
   "cell_type": "code",
   "execution_count": null,
   "metadata": {},
   "outputs": [],
   "source": [
    "ncis['polarity'] = ncis['dialogue'].apply(pol)"
   ]
  },
  {
   "cell_type": "code",
   "execution_count": null,
   "metadata": {},
   "outputs": [],
   "source": [
    "ncis.head()"
   ]
  },
  {
   "cell_type": "code",
   "execution_count": null,
   "metadata": {},
   "outputs": [],
   "source": [
    "ncis.reset_index(inplace=True)"
   ]
  },
  {
   "cell_type": "code",
   "execution_count": null,
   "metadata": {},
   "outputs": [],
   "source": [
    "ncis[['sea','#']] = ncis.ep_id.str.split('/',expand=True)"
   ]
  },
  {
   "cell_type": "code",
   "execution_count": null,
   "metadata": {},
   "outputs": [],
   "source": [
    "# ncis_sea_sent.drop('season',axis=1,inplace=True)"
   ]
  },
  {
   "cell_type": "code",
   "execution_count": null,
   "metadata": {},
   "outputs": [],
   "source": [
    "ncis_sea_sent = ncis.groupby(['sea'],as_index=False,sort=False)['polarity'].mean()\n",
    "ncis_sea_sent"
   ]
  },
  {
   "cell_type": "code",
   "execution_count": null,
   "metadata": {},
   "outputs": [],
   "source": [
    "# ncis_sea_sent.sort_values('season', axis=0, ascending=True, inplace=True)"
   ]
  },
  {
   "cell_type": "code",
   "execution_count": null,
   "metadata": {},
   "outputs": [],
   "source": [
    "ncis['polarity'].mean()"
   ]
  },
  {
   "cell_type": "code",
   "execution_count": null,
   "metadata": {},
   "outputs": [],
   "source": [
    "# Let's plot the results\n",
    "import matplotlib.pyplot as plt\n",
    "\n",
    "plt.rcParams['figure.figsize'] = [18, 14]\n",
    "sns.set(font_scale = 1.4)\n",
    "for index, dialogue in enumerate(ncis.index):\n",
    "    x = ncis_sea_sent.sea\n",
    "    y = ncis_sea_sent.polarity\n",
    "    plt.plot(x, y, color='blue')\n",
    "#     plt.text(x, y, ncis_sea_sent['sea'][index], fontsize=10)\n",
    "    plt.ylim(.07, .12) \n",
    "    \n",
    "plt.xticks(rotation=20)\n",
    "plt.title('NCIS: Season by Season Sentiment', fontsize=20)\n",
    "plt.xlabel('<-- Season 1 -------- Season 17 -->', fontsize=15)\n",
    "plt.ylabel('<-- Negative -------- Positive -->', fontsize=15)\n",
    "\n",
    "plt.savefig('ncis_season_sentiment.png');\n",
    "plt.show()"
   ]
  },
  {
   "cell_type": "code",
   "execution_count": null,
   "metadata": {},
   "outputs": [],
   "source": []
  }
 ],
 "metadata": {
  "kernelspec": {
   "display_name": "Python [conda env:metis] *",
   "language": "python",
   "name": "conda-env-metis-py"
  },
  "language_info": {
   "codemirror_mode": {
    "name": "ipython",
    "version": 3
   },
   "file_extension": ".py",
   "mimetype": "text/x-python",
   "name": "python",
   "nbconvert_exporter": "python",
   "pygments_lexer": "ipython3",
   "version": "3.7.4"
  },
  "toc": {
   "base_numbering": 1,
   "nav_menu": {},
   "number_sections": false,
   "sideBar": true,
   "skip_h1_title": false,
   "title_cell": "Table of Contents",
   "title_sidebar": "Contents",
   "toc_cell": false,
   "toc_position": {},
   "toc_section_display": true,
   "toc_window_display": true
  }
 },
 "nbformat": 4,
 "nbformat_minor": 4
}
