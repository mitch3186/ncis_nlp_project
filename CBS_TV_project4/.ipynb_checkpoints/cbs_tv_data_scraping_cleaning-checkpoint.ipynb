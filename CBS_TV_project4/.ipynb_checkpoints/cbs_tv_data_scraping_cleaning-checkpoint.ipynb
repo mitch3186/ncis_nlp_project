{
 "cells": [
  {
   "cell_type": "code",
   "execution_count": 1,
   "metadata": {},
   "outputs": [],
   "source": [
    "from bs4 import BeautifulSoup\n",
    "import requests"
   ]
  },
  {
   "cell_type": "code",
   "execution_count": 2,
   "metadata": {},
   "outputs": [],
   "source": [
    "import pandas as pd\n",
    "import numpy as np\n",
    "import datetime as dt\n",
    "import matplotlib.pyplot as plt\n",
    "import seaborn as sns\n",
    "import statsmodels.formula.api as smf\n",
    "import patsy\n",
    "import re\n",
    "\n",
    "\n",
    "%matplotlib inline\n",
    "from sklearn.linear_model import LinearRegression\n",
    "from sklearn.linear_model import RidgeCV\n",
    "from sklearn.metrics import mean_squared_error, r2_score\n",
    "from sklearn.model_selection import train_test_split"
   ]
  },
  {
   "cell_type": "code",
   "execution_count": 80,
   "metadata": {},
   "outputs": [],
   "source": [
    "import sys\n",
    "sys.setrecursionlimit(20000)"
   ]
  },
  {
   "cell_type": "code",
   "execution_count": 4,
   "metadata": {},
   "outputs": [
    {
     "ename": "SyntaxError",
     "evalue": "invalid syntax (cbs_func.py, line 53)",
     "output_type": "error",
     "traceback": [
      "Traceback \u001b[0;36m(most recent call last)\u001b[0m:\n",
      "  File \u001b[1;32m\"/opt/anaconda3/envs/metis/lib/python3.7/site-packages/IPython/core/interactiveshell.py\"\u001b[0m, line \u001b[1;32m3331\u001b[0m, in \u001b[1;35mrun_code\u001b[0m\n    exec(code_obj, self.user_global_ns, self.user_ns)\n",
      "\u001b[0;36m  File \u001b[0;32m\"<ipython-input-4-9c7f396c42e2>\"\u001b[0;36m, line \u001b[0;32m1\u001b[0;36m, in \u001b[0;35m<module>\u001b[0;36m\u001b[0m\n\u001b[0;31m    from cbs_func import*\u001b[0m\n",
      "\u001b[0;36m  File \u001b[0;32m\"/Users/user/Desktop/notes_chi20_ds14/CBS_TV_project4/cbs_func.py\"\u001b[0;36m, line \u001b[0;32m53\u001b[0m\n\u001b[0;31m    df [average]=\u001b[0m\n\u001b[0m                  ^\u001b[0m\n\u001b[0;31mSyntaxError\u001b[0m\u001b[0;31m:\u001b[0m invalid syntax\n"
     ]
    }
   ],
   "source": [
    "from cbs_func import*"
   ]
  },
  {
   "cell_type": "code",
   "execution_count": 66,
   "metadata": {},
   "outputs": [],
   "source": [
    "episodes = episodes.replace(' ','_')"
   ]
  },
  {
   "cell_type": "code",
   "execution_count": 12,
   "metadata": {},
   "outputs": [],
   "source": [
    "url2 = 'https://subslikescript.com/series/NCIS-364845' \n",
    "respond = requests.get(url2)\n",
    "titles = respond.text\n",
    "soupy = BeautifulSoup(titles, \"html.parser\")"
   ]
  },
  {
   "cell_type": "code",
   "execution_count": 46,
   "metadata": {},
   "outputs": [],
   "source": [
    "titles_list = soupy.find('div',class_='series_seasons').find_all('a')\n",
    "ncis_list = []\n",
    "for link in soupy.find_all('a'):\n",
    "    ncis_list.append(link.get('href'))\n",
    "ncis_list= ncis_list[5:]"
   ]
  },
  {
   "cell_type": "code",
   "execution_count": 48,
   "metadata": {},
   "outputs": [],
   "source": [
    "for i, num in enumerate(ncis_list):\n",
    "    ncis_list[i] = num.replace('/series/NCIS-364845/','')"
   ]
  },
  {
   "cell_type": "code",
   "execution_count": 50,
   "metadata": {},
   "outputs": [],
   "source": [
    "def ncis_data(ncis_list):\n",
    "    ncis_df = []\n",
    "    url = 'https://subslikescript.com/series/NCIS-364845/{}'\n",
    "    \n",
    "    for ep in ncis_list:\n",
    "        ep_title = ep\n",
    "#         data = requests.get(url)\n",
    "        response = requests.get(url.format(ep))\n",
    "        page = response.text\n",
    "        soup = BeautifulSoup(page, 'lxml')\n",
    "        \n",
    "        scripts = [{\n",
    "                    'ep_id': ep_title,\n",
    "                    'dialogue':soup.find(class_='full-script')\n",
    "                   }]\n",
    "            \n",
    "                \n",
    "        ncis_df.extend(scripts)\n",
    "     \n",
    "    df =  pd.DataFrame(ncis_df)\n",
    "    df = df[['ep_id', 'dialogue']]\n",
    "    \n",
    "    return df"
   ]
  },
  {
   "cell_type": "code",
   "execution_count": 51,
   "metadata": {},
   "outputs": [],
   "source": [
    "data_df = ncis_data(ep_list)"
   ]
  },
  {
   "cell_type": "code",
   "execution_count": 59,
   "metadata": {},
   "outputs": [
    {
     "data": {
      "text/plain": [
       "<bound method NDFrame.describe of                                   ep_id  \\\n",
       "0       season-1/episode-1-Yankee_White   \n",
       "1    season-1/episode-2-Hung_Out_to_Dry   \n",
       "2             season-1/episode-3-Seadog   \n",
       "3      season-1/episode-4-The_Immortals   \n",
       "4          season-1/episode-5-The_Curse   \n",
       "..                                  ...   \n",
       "373    season-17/episode-12-Flight_Plan   \n",
       "374      season-17/episode-13-Sound_Off   \n",
       "375        season-17/episode-14-On_Fire   \n",
       "376  season-17/episode-15-Lonely_Hearts   \n",
       "377                               /dmca   \n",
       "\n",
       "                                              dialogue  \n",
       "0    [[], (ENGINES WHIRRING), [], [], (PEOPLE CHATT...  \n",
       "1    [[], (GHOST OF A GOOD THING, [], PLAYING ON CA...  \n",
       "2    [[], (WHAT I LIKE ABOUT YOU, [], BY THE ROMANT...  \n",
       "3    [[], (REGGAE MUSIC PLAYING), [], [], (WHOOPING...  \n",
       "4    [[], Shoot., [], [], (SCREAMING), [], [], Grab...  \n",
       "..                                                 ...  \n",
       "373  [[], AIR TRAFFIC CONTROLLER:, [], 287 Mother,,...  \n",
       "374  [[], Bravo-Delta-Four UAV test., [], [], In fl...  \n",
       "375  [[], (tires screeching), [], [], Whoa., [], []...  \n",
       "376  [[], (birds calling), [], [], I wouldn't do th...  \n",
       "377                                               None  \n",
       "\n",
       "[378 rows x 2 columns]>"
      ]
     },
     "execution_count": 59,
     "metadata": {},
     "output_type": "execute_result"
    }
   ],
   "source": [
    "data_df.describe"
   ]
  },
  {
   "cell_type": "code",
   "execution_count": 70,
   "metadata": {},
   "outputs": [],
   "source": [
    "df_pt1 = data_df"
   ]
  },
  {
   "cell_type": "code",
   "execution_count": 75,
   "metadata": {},
   "outputs": [],
   "source": [
    "df_pt1 = df_pt1[:-7]"
   ]
  },
  {
   "cell_type": "code",
   "execution_count": 76,
   "metadata": {},
   "outputs": [
    {
     "data": {
      "text/html": [
       "<div>\n",
       "<style scoped>\n",
       "    .dataframe tbody tr th:only-of-type {\n",
       "        vertical-align: middle;\n",
       "    }\n",
       "\n",
       "    .dataframe tbody tr th {\n",
       "        vertical-align: top;\n",
       "    }\n",
       "\n",
       "    .dataframe thead th {\n",
       "        text-align: right;\n",
       "    }\n",
       "</style>\n",
       "<table border=\"1\" class=\"dataframe\">\n",
       "  <thead>\n",
       "    <tr style=\"text-align: right;\">\n",
       "      <th></th>\n",
       "      <th>ep_id</th>\n",
       "      <th>dialogue</th>\n",
       "    </tr>\n",
       "  </thead>\n",
       "  <tbody>\n",
       "    <tr>\n",
       "      <th>153</th>\n",
       "      <td>season-7/episode-19-Guilty_Pleasure</td>\n",
       "      <td>[[], Brett Lee the quarterback, [], is dating ...</td>\n",
       "    </tr>\n",
       "    <tr>\n",
       "      <th>154</th>\n",
       "      <td>season-7/episode-20-Moonlighting</td>\n",
       "      <td>[[], (hip-hop song playing), [], [], (lowers v...</td>\n",
       "    </tr>\n",
       "    <tr>\n",
       "      <th>155</th>\n",
       "      <td>season-7/episode-21-Obsession</td>\n",
       "      <td>[[], Got a heart attack., [], BP 88/62, pulse ...</td>\n",
       "    </tr>\n",
       "    <tr>\n",
       "      <th>156</th>\n",
       "      <td>season-7/episode-22-Borderland</td>\n",
       "      <td>[[], Why is everything rusted,, [], Grandpa?, ...</td>\n",
       "    </tr>\n",
       "    <tr>\n",
       "      <th>157</th>\n",
       "      <td>season-7/episode-23-Patriot_Down</td>\n",
       "      <td>[[], Downloaded From www.AllSubs.org, [], [], ...</td>\n",
       "    </tr>\n",
       "    <tr>\n",
       "      <th>158</th>\n",
       "      <td>season-7/episode-24-Rule_Fifty-One</td>\n",
       "      <td>[[], The evidence in my report says, [], that ...</td>\n",
       "    </tr>\n",
       "    <tr>\n",
       "      <th>159</th>\n",
       "      <td>season-8/episode-1-Spider_and_the_Fly</td>\n",
       "      <td>[[], What's an NCIS Agent doing, [], so far fr...</td>\n",
       "    </tr>\n",
       "    <tr>\n",
       "      <th>160</th>\n",
       "      <td>season-8/episode-2-Worst_Nightmare</td>\n",
       "      <td>[[], The first main character, [], in Milton's...</td>\n",
       "    </tr>\n",
       "    <tr>\n",
       "      <th>161</th>\n",
       "      <td>season-8/episode-3-Short_Fuse</td>\n",
       "      <td>[[], I have a staff meeting, [], on Thursday n...</td>\n",
       "    </tr>\n",
       "    <tr>\n",
       "      <th>162</th>\n",
       "      <td>season-8/episode-4-Royals__Loyals</td>\n",
       "      <td>[[], What's an NCIS agent, [], doing so far fr...</td>\n",
       "    </tr>\n",
       "    <tr>\n",
       "      <th>163</th>\n",
       "      <td>season-8/episode-5-Dead_Air</td>\n",
       "      <td>[[], www.Team-NCIS.com, [], [], Welcome back t...</td>\n",
       "    </tr>\n",
       "    <tr>\n",
       "      <th>164</th>\n",
       "      <td>season-8/episode-6-Cracked</td>\n",
       "      <td>[[], Hey., [], Whoa., [], [], Watch where you'...</td>\n",
       "    </tr>\n",
       "    <tr>\n",
       "      <th>165</th>\n",
       "      <td>season-8/episode-7-Broken_Arrow</td>\n",
       "      <td>[[], Sir, with rush-hour traffic,, [], you're ...</td>\n",
       "    </tr>\n",
       "    <tr>\n",
       "      <th>166</th>\n",
       "      <td>season-8/episode-8-Enemies_Foreign</td>\n",
       "      <td>[[], - On the ground!, [], - NCIS!, [], [], - ...</td>\n",
       "    </tr>\n",
       "    <tr>\n",
       "      <th>167</th>\n",
       "      <td>season-8/episode-9-Enemies_Domestic</td>\n",
       "      <td>[[], Previously on NCIS:, [], [], - Hello, Ziv...</td>\n",
       "    </tr>\n",
       "    <tr>\n",
       "      <th>168</th>\n",
       "      <td>season-8/episode-10-False_Witness</td>\n",
       "      <td>[[], Hmm., [], [], Mm., [], [], Hmm., [], [], ...</td>\n",
       "    </tr>\n",
       "    <tr>\n",
       "      <th>169</th>\n",
       "      <td>season-8/episode-11-Ships_in_the_Night</td>\n",
       "      <td>[[], www.Team-NCIS.com, [], [], Getting late, ...</td>\n",
       "    </tr>\n",
       "    <tr>\n",
       "      <th>170</th>\n",
       "      <td>season-8/episode-12-Recruited</td>\n",
       "      <td>[[], Well, Allison,, [], the most valuable ass...</td>\n",
       "    </tr>\n",
       "    <tr>\n",
       "      <th>171</th>\n",
       "      <td>season-8/episode-13-Freedom</td>\n",
       "      <td>[[], You are one hot dog-walker., [], [], Do t...</td>\n",
       "    </tr>\n",
       "    <tr>\n",
       "      <th>172</th>\n",
       "      <td>season-8/episode-14-A_Man_Walks_Into_a_Bar</td>\n",
       "      <td>[[], Captain?, [], [], Notification, [], from ...</td>\n",
       "    </tr>\n",
       "    <tr>\n",
       "      <th>173</th>\n",
       "      <td>season-8/episode-15-Defiance</td>\n",
       "      <td>[[], The State Department's, [], breathing dow...</td>\n",
       "    </tr>\n",
       "    <tr>\n",
       "      <th>174</th>\n",
       "      <td>season-8/episode-16-Kill_Screen</td>\n",
       "      <td>[[], - Whoa, whoa. Oh, sorry. Sorry., [], Watc...</td>\n",
       "    </tr>\n",
       "    <tr>\n",
       "      <th>175</th>\n",
       "      <td>season-8/episode-17-One_Last_Score</td>\n",
       "      <td>[[], Hey., [], [], - Ahem., [], - Get a room.,...</td>\n",
       "    </tr>\n",
       "    <tr>\n",
       "      <th>176</th>\n",
       "      <td>season-8/episode-18-Out_of_the_Frying_Pan</td>\n",
       "      <td>[[], You can tell a lot about a person, [], by...</td>\n",
       "    </tr>\n",
       "    <tr>\n",
       "      <th>177</th>\n",
       "      <td>season-8/episode-19-Tell-All</td>\n",
       "      <td>[[], God, I feel like all we've seen, [], is s...</td>\n",
       "    </tr>\n",
       "    <tr>\n",
       "      <th>178</th>\n",
       "      <td>season-8/episode-20-Two-Faced</td>\n",
       "      <td>[[], Hi, Melissa., [], [], Victory!, [], [], I...</td>\n",
       "    </tr>\n",
       "    <tr>\n",
       "      <th>179</th>\n",
       "      <td>season-8/episode-21-Dead_Reflection</td>\n",
       "      <td>[[], - What have you got for us, Ducky?, [], -...</td>\n",
       "    </tr>\n",
       "    <tr>\n",
       "      <th>180</th>\n",
       "      <td>season-8/episode-22-Baltimore</td>\n",
       "      <td>[[], [microwave whirring, beeps], [], [], [met...</td>\n",
       "    </tr>\n",
       "    <tr>\n",
       "      <th>181</th>\n",
       "      <td>season-8/episode-23-Swan_Song</td>\n",
       "      <td>[[], [thunder rumbles], [], [], Boss, I found ...</td>\n",
       "    </tr>\n",
       "    <tr>\n",
       "      <th>182</th>\n",
       "      <td>season-8/episode-24-Pyramid</td>\n",
       "      <td>[[], Previously on NCIS:, [], [], Called the p...</td>\n",
       "    </tr>\n",
       "  </tbody>\n",
       "</table>\n",
       "</div>"
      ],
      "text/plain": [
       "                                          ep_id  \\\n",
       "153         season-7/episode-19-Guilty_Pleasure   \n",
       "154            season-7/episode-20-Moonlighting   \n",
       "155               season-7/episode-21-Obsession   \n",
       "156              season-7/episode-22-Borderland   \n",
       "157            season-7/episode-23-Patriot_Down   \n",
       "158          season-7/episode-24-Rule_Fifty-One   \n",
       "159       season-8/episode-1-Spider_and_the_Fly   \n",
       "160          season-8/episode-2-Worst_Nightmare   \n",
       "161               season-8/episode-3-Short_Fuse   \n",
       "162           season-8/episode-4-Royals__Loyals   \n",
       "163                 season-8/episode-5-Dead_Air   \n",
       "164                  season-8/episode-6-Cracked   \n",
       "165             season-8/episode-7-Broken_Arrow   \n",
       "166          season-8/episode-8-Enemies_Foreign   \n",
       "167         season-8/episode-9-Enemies_Domestic   \n",
       "168           season-8/episode-10-False_Witness   \n",
       "169      season-8/episode-11-Ships_in_the_Night   \n",
       "170               season-8/episode-12-Recruited   \n",
       "171                 season-8/episode-13-Freedom   \n",
       "172  season-8/episode-14-A_Man_Walks_Into_a_Bar   \n",
       "173                season-8/episode-15-Defiance   \n",
       "174             season-8/episode-16-Kill_Screen   \n",
       "175          season-8/episode-17-One_Last_Score   \n",
       "176   season-8/episode-18-Out_of_the_Frying_Pan   \n",
       "177                season-8/episode-19-Tell-All   \n",
       "178               season-8/episode-20-Two-Faced   \n",
       "179         season-8/episode-21-Dead_Reflection   \n",
       "180               season-8/episode-22-Baltimore   \n",
       "181               season-8/episode-23-Swan_Song   \n",
       "182                 season-8/episode-24-Pyramid   \n",
       "\n",
       "                                              dialogue  \n",
       "153  [[], Brett Lee the quarterback, [], is dating ...  \n",
       "154  [[], (hip-hop song playing), [], [], (lowers v...  \n",
       "155  [[], Got a heart attack., [], BP 88/62, pulse ...  \n",
       "156  [[], Why is everything rusted,, [], Grandpa?, ...  \n",
       "157  [[], Downloaded From www.AllSubs.org, [], [], ...  \n",
       "158  [[], The evidence in my report says, [], that ...  \n",
       "159  [[], What's an NCIS Agent doing, [], so far fr...  \n",
       "160  [[], The first main character, [], in Milton's...  \n",
       "161  [[], I have a staff meeting, [], on Thursday n...  \n",
       "162  [[], What's an NCIS agent, [], doing so far fr...  \n",
       "163  [[], www.Team-NCIS.com, [], [], Welcome back t...  \n",
       "164  [[], Hey., [], Whoa., [], [], Watch where you'...  \n",
       "165  [[], Sir, with rush-hour traffic,, [], you're ...  \n",
       "166  [[], - On the ground!, [], - NCIS!, [], [], - ...  \n",
       "167  [[], Previously on NCIS:, [], [], - Hello, Ziv...  \n",
       "168  [[], Hmm., [], [], Mm., [], [], Hmm., [], [], ...  \n",
       "169  [[], www.Team-NCIS.com, [], [], Getting late, ...  \n",
       "170  [[], Well, Allison,, [], the most valuable ass...  \n",
       "171  [[], You are one hot dog-walker., [], [], Do t...  \n",
       "172  [[], Captain?, [], [], Notification, [], from ...  \n",
       "173  [[], The State Department's, [], breathing dow...  \n",
       "174  [[], - Whoa, whoa. Oh, sorry. Sorry., [], Watc...  \n",
       "175  [[], Hey., [], [], - Ahem., [], - Get a room.,...  \n",
       "176  [[], You can tell a lot about a person, [], by...  \n",
       "177  [[], God, I feel like all we've seen, [], is s...  \n",
       "178  [[], Hi, Melissa., [], [], Victory!, [], [], I...  \n",
       "179  [[], - What have you got for us, Ducky?, [], -...  \n",
       "180  [[], [microwave whirring, beeps], [], [], [met...  \n",
       "181  [[], [thunder rumbles], [], [], Boss, I found ...  \n",
       "182  [[], Previously on NCIS:, [], [], Called the p...  "
      ]
     },
     "execution_count": 76,
     "metadata": {},
     "output_type": "execute_result"
    }
   ],
   "source": [
    "df_pt1.tail(30)"
   ]
  },
  {
   "cell_type": "code",
   "execution_count": 81,
   "metadata": {},
   "outputs": [],
   "source": [
    "data_df.to_pickle('ncis_full_series.pkl')"
   ]
  },
  {
   "cell_type": "code",
   "execution_count": 111,
   "metadata": {},
   "outputs": [],
   "source": [
    "# def ncis_data (shows):\n",
    "#     url = 'https://subslikescript.com/series/NCIS-364845/season-10/episode-{}'\n",
    "#     ncis_df = []\n",
    "    \n",
    "#     for show in shows:\n",
    "#         response = requests.get(url.format(show))\n",
    "#         page = response.text\n",
    "#         soup = BeautifulSoup(page,\"lxml\")\n",
    "#         script = soup.find(class_='full-script')\n",
    "#         words = pd.read_html(str(script))\n",
    "# #         df = pd.concat(df)\n",
    "    \n",
    "#         ncis_df.append(words)\n",
    "#     return pd.DataFrame(ncis_df)"
   ]
  },
  {
   "cell_type": "code",
   "execution_count": null,
   "metadata": {},
   "outputs": [],
   "source": [
    "<a href=\"/series/NCIS-364845/season-10/episode-9-Devils_Trifecta\" title=\"Transcript of episode 9 &quot;Devil\" s=\"\" trifecta\"'=\"\">Devil's Trifecta</a>"
   ]
  },
  {
   "cell_type": "code",
   "execution_count": 39,
   "metadata": {},
   "outputs": [],
   "source": [
    "url1 = 'https://subslikescript.com/series/NCIS-364845'\n",
    "\n",
    "response = requests.get(url1)"
   ]
  },
  {
   "cell_type": "code",
   "execution_count": 40,
   "metadata": {},
   "outputs": [],
   "source": [
    "page = response.text"
   ]
  },
  {
   "cell_type": "code",
   "execution_count": 41,
   "metadata": {},
   "outputs": [],
   "source": [
    "soup = BeautifulSoup(page, \"lxml\")"
   ]
  },
  {
   "cell_type": "code",
   "execution_count": 293,
   "metadata": {},
   "outputs": [],
   "source": [
    "for div in soup.find_all('div', class_='season'):\n",
    "    for season in div.find_all('h4', class_='Season 10'):\n",
    "        for line in season.find_all('li'):\n",
    "            for link in line.find_all:\n",
    "                print(link)"
   ]
  },
  {
   "cell_type": "code",
   "execution_count": 81,
   "metadata": {},
   "outputs": [
    {
     "ename": "AttributeError",
     "evalue": "'NoneType' object has no attribute 'find_all'",
     "output_type": "error",
     "traceback": [
      "\u001b[0;31m---------------------------------------------------------------------------\u001b[0m",
      "\u001b[0;31mAttributeError\u001b[0m                            Traceback (most recent call last)",
      "\u001b[0;32m<ipython-input-81-a320ecbc835a>\u001b[0m in \u001b[0;36m<module>\u001b[0;34m\u001b[0m\n\u001b[0;32m----> 1\u001b[0;31m \u001b[0mep_list\u001b[0m \u001b[0;34m=\u001b[0m \u001b[0msoup\u001b[0m\u001b[0;34m.\u001b[0m\u001b[0mfind\u001b[0m\u001b[0;34m(\u001b[0m\u001b[0mh4_\u001b[0m\u001b[0;34m=\u001b[0m\u001b[0;34m'Season 10'\u001b[0m\u001b[0;34m)\u001b[0m\u001b[0;34m.\u001b[0m\u001b[0mfind_all\u001b[0m\u001b[0;34m(\u001b[0m\u001b[0;34m'li'\u001b[0m\u001b[0;34m,\u001b[0m \u001b[0;34m)\u001b[0m\u001b[0;34m[\u001b[0m\u001b[0;36m0\u001b[0m\u001b[0;34m]\u001b[0m\u001b[0;34m.\u001b[0m\u001b[0mtext\u001b[0m\u001b[0;34m\u001b[0m\u001b[0;34m\u001b[0m\u001b[0m\n\u001b[0m\u001b[1;32m      2\u001b[0m \u001b[0mep_list\u001b[0m\u001b[0;34m\u001b[0m\u001b[0;34m\u001b[0m\u001b[0m\n",
      "\u001b[0;31mAttributeError\u001b[0m: 'NoneType' object has no attribute 'find_all'"
     ]
    }
   ],
   "source": [
    "ep_list = soup.find(class_='season').find_all('li' )[200].text\n",
    "ep_list"
   ]
  },
  {
   "cell_type": "code",
   "execution_count": null,
   "metadata": {},
   "outputs": [],
   "source": []
  },
  {
   "cell_type": "code",
   "execution_count": null,
   "metadata": {},
   "outputs": [],
   "source": []
  },
  {
   "cell_type": "code",
   "execution_count": 12,
   "metadata": {},
   "outputs": [],
   "source": [
    "url2 = 'https://subslikescript.com/series/NCIS-364845' \n",
    "respond = requests.get(url2)\n",
    "titles = respond.text\n",
    "soupy = BeautifulSoup(titles, \"html.parser\")"
   ]
  },
  {
   "cell_type": "code",
   "execution_count": 46,
   "metadata": {},
   "outputs": [],
   "source": [
    "titles_list = soupy.find('div',class_='series_seasons').find_all('a')\n",
    "ep_list = []\n",
    "for link in soupy.find_all('a'):\n",
    "    ep_list.append(link.get('href'))\n",
    "ep_list= ep_list[5:]"
   ]
  },
  {
   "cell_type": "code",
   "execution_count": 48,
   "metadata": {},
   "outputs": [],
   "source": [
    "for i, num in enumerate(ep_list):\n",
    "    ep_list[i] = num.replace('/series/NCIS-364845/','')"
   ]
  },
  {
   "cell_type": "code",
   "execution_count": 238,
   "metadata": {},
   "outputs": [
    {
     "data": {
      "text/html": [
       "<div>\n",
       "<style scoped>\n",
       "    .dataframe tbody tr th:only-of-type {\n",
       "        vertical-align: middle;\n",
       "    }\n",
       "\n",
       "    .dataframe tbody tr th {\n",
       "        vertical-align: top;\n",
       "    }\n",
       "\n",
       "    .dataframe thead th {\n",
       "        text-align: right;\n",
       "    }\n",
       "</style>\n",
       "<table border=\"1\" class=\"dataframe\">\n",
       "  <thead>\n",
       "    <tr style=\"text-align: right;\">\n",
       "      <th></th>\n",
       "      <th>links</th>\n",
       "    </tr>\n",
       "  </thead>\n",
       "  <tbody>\n",
       "    <tr>\n",
       "      <th>0</th>\n",
       "      <td>[Yankee White]</td>\n",
       "    </tr>\n",
       "    <tr>\n",
       "      <th>1</th>\n",
       "      <td>[Hung Out to Dry]</td>\n",
       "    </tr>\n",
       "    <tr>\n",
       "      <th>2</th>\n",
       "      <td>[Seadog]</td>\n",
       "    </tr>\n",
       "    <tr>\n",
       "      <th>3</th>\n",
       "      <td>[The Immortals]</td>\n",
       "    </tr>\n",
       "    <tr>\n",
       "      <th>4</th>\n",
       "      <td>[The Curse]</td>\n",
       "    </tr>\n",
       "  </tbody>\n",
       "</table>\n",
       "</div>"
      ],
      "text/plain": [
       "               links\n",
       "0     [Yankee White]\n",
       "1  [Hung Out to Dry]\n",
       "2           [Seadog]\n",
       "3    [The Immortals]\n",
       "4        [The Curse]"
      ]
     },
     "execution_count": 238,
     "metadata": {},
     "output_type": "execute_result"
    }
   ],
   "source": [
    "cue.head()"
   ]
  },
  {
   "cell_type": "code",
   "execution_count": 228,
   "metadata": {},
   "outputs": [],
   "source": [
    "cue = cue.replace(' ','_',regex=True, inplace=True)"
   ]
  },
  {
   "cell_type": "code",
   "execution_count": 173,
   "metadata": {},
   "outputs": [
    {
     "ename": "SyntaxError",
     "evalue": "invalid syntax (<ipython-input-173-1062c9f6e4b5>, line 2)",
     "output_type": "error",
     "traceback": [
      "\u001b[0;36m  File \u001b[0;32m\"<ipython-input-173-1062c9f6e4b5>\"\u001b[0;36m, line \u001b[0;32m2\u001b[0m\n\u001b[0;31m    print 'a'['value'].split(\"/\")[-1], 'a'.text\u001b[0m\n\u001b[0m            ^\u001b[0m\n\u001b[0;31mSyntaxError\u001b[0m\u001b[0;31m:\u001b[0m invalid syntax\n"
     ]
    }
   ],
   "source": [
    "for a in titles_list:\n",
    "    print ('a'['value'].split(\"/\")[-1], 'a'.text)"
   ]
  },
  {
   "cell_type": "code",
   "execution_count": 167,
   "metadata": {},
   "outputs": [
    {
     "ename": "AttributeError",
     "evalue": "ResultSet object has no attribute 'find'. You're probably treating a list of elements like a single element. Did you call find_all() when you meant to call find()?",
     "output_type": "error",
     "traceback": [
      "\u001b[0;31m---------------------------------------------------------------------------\u001b[0m",
      "\u001b[0;31mAttributeError\u001b[0m                            Traceback (most recent call last)",
      "\u001b[0;32m<ipython-input-167-e1261bba47fd>\u001b[0m in \u001b[0;36m<module>\u001b[0;34m\u001b[0m\n\u001b[1;32m      1\u001b[0m \u001b[0mtags\u001b[0m \u001b[0;34m=\u001b[0m \u001b[0;34m[\u001b[0m\u001b[0;34m]\u001b[0m\u001b[0;34m\u001b[0m\u001b[0;34m\u001b[0m\u001b[0m\n\u001b[0;32m----> 2\u001b[0;31m \u001b[0;32mfor\u001b[0m \u001b[0mx\u001b[0m \u001b[0;32min\u001b[0m \u001b[0mtitles_list\u001b[0m\u001b[0;34m.\u001b[0m\u001b[0mfind\u001b[0m\u001b[0;34m(\u001b[0m\u001b[0;34m'div'\u001b[0m\u001b[0;34m,\u001b[0m \u001b[0mclass_\u001b[0m\u001b[0;34m=\u001b[0m\u001b[0;34m'series_seasons'\u001b[0m\u001b[0;34m)\u001b[0m\u001b[0;34m:\u001b[0m\u001b[0;34m\u001b[0m\u001b[0;34m\u001b[0m\u001b[0m\n\u001b[0m\u001b[1;32m      3\u001b[0m     tags.extend(\n\u001b[1;32m      4\u001b[0m          \u001b[0;34m(\u001b[0m\u001b[0ma\u001b[0m\u001b[0;34m.\u001b[0m\u001b[0mprettify\u001b[0m\u001b[0;34m(\u001b[0m\u001b[0;34m)\u001b[0m \u001b[0;32mfor\u001b[0m \u001b[0ma\u001b[0m \u001b[0;32min\u001b[0m \u001b[0mx\u001b[0m\u001b[0;34m.\u001b[0m\u001b[0mfind\u001b[0m\u001b[0;34m(\u001b[0m\u001b[0;34m'div'\u001b[0m\u001b[0;34m,\u001b[0m \u001b[0mclass_\u001b[0m\u001b[0;34m=\u001b[0m\u001b[0;34m'series_seasons'\u001b[0m\u001b[0;34m)\u001b[0m\u001b[0;34m.\u001b[0m\u001b[0mfind_all\u001b[0m\u001b[0;34m(\u001b[0m\u001b[0;34m'a'\u001b[0m\u001b[0;34m)\u001b[0m\u001b[0;34m)\u001b[0m\u001b[0;34m\u001b[0m\u001b[0;34m\u001b[0m\u001b[0m\n\u001b[1;32m      5\u001b[0m     )\n",
      "\u001b[0;32m/opt/anaconda3/envs/metis/lib/python3.7/site-packages/bs4/element.py\u001b[0m in \u001b[0;36m__getattr__\u001b[0;34m(self, key)\u001b[0m\n\u001b[1;32m   2079\u001b[0m         \u001b[0;34m\"\"\"Raise a helpful exception to explain a common code fix.\"\"\"\u001b[0m\u001b[0;34m\u001b[0m\u001b[0;34m\u001b[0m\u001b[0m\n\u001b[1;32m   2080\u001b[0m         raise AttributeError(\n\u001b[0;32m-> 2081\u001b[0;31m             \u001b[0;34m\"ResultSet object has no attribute '%s'. You're probably treating a list of elements like a single element. Did you call find_all() when you meant to call find()?\"\u001b[0m \u001b[0;34m%\u001b[0m \u001b[0mkey\u001b[0m\u001b[0;34m\u001b[0m\u001b[0;34m\u001b[0m\u001b[0m\n\u001b[0m\u001b[1;32m   2082\u001b[0m         )\n",
      "\u001b[0;31mAttributeError\u001b[0m: ResultSet object has no attribute 'find'. You're probably treating a list of elements like a single element. Did you call find_all() when you meant to call find()?"
     ]
    }
   ],
   "source": [
    "tags = [] \n",
    "for x in titles_list.find_all('a'):\n",
    "    tags.extend(\n",
    "         (a.prettify() for a in x.find('div', class_='series_seasons').find_all('a'))\n",
    "    )"
   ]
  },
  {
   "cell_type": "code",
   "execution_count": 25,
   "metadata": {},
   "outputs": [
    {
     "data": {
      "text/plain": [
       "200"
      ]
     },
     "execution_count": 25,
     "metadata": {},
     "output_type": "execute_result"
    }
   ],
   "source": [
    "response.status_code  #200 = success!"
   ]
  },
  {
   "cell_type": "code",
   "execution_count": 8,
   "metadata": {},
   "outputs": [
    {
     "data": {
      "text/plain": [
       "'<!doctype html>\\n<html lang=\"en\" dir=\"ltr\">\\n<head>\\n\\t<!-- Global site tag (gtag.js) - Google Analytics -->\\n<script async src=\"https://www.googletagmanager.com/gtag/js?id=UA-120598793-1\"></script>\\n<script>\\n  window.dataLayer = window.dataLayer || [];\\n  function gtag(){dataLayer.push(arguments);}\\n  gtag(\\'js\\', new Date());\\n\\n  gtag(\\'config\\', \\'UA-120598793-1\\');\\n</script>\\n\\n\\t<meta charset=\"utf-8\">\\n\\t<title>NCIS: Season 10, Episode 11 script  | Subs like Script</title>\\n\\t<meta name=\"description\" content=\"Transcript for Tv Show NCIS - Season 10 Episode 11 - Shabbat Shalom \">\\n\\t<meta name=\"keywords\" content=\"transcript, s10e11, episode, series, tv show, television, subtitles, scripts, film, video, media, subs, srt \">\\n\\t<meta name=\"viewport\" content=\"width=device-width, initial-scale=1\">\\n\\t<meta name=\"robots\" content=\"index, follow\">\\n\\t<link rel=\"shortcut icon\" href=\"/favicon.ico\">\\n\\t<link media=\"all\" type=\"text/css\" rel=\"stylesheet\" href=\"/styles/main.css\">\\n\\t\\n\\t\\t\\t \\n\\t\\t<script data-ad-client=\"ca-pub-6250492'"
      ]
     },
     "execution_count": 8,
     "metadata": {},
     "output_type": "execute_result"
    }
   ],
   "source": [
    "response.text[:1000]  #First 1000 characters of the HTML"
   ]
  },
  {
   "cell_type": "code",
   "execution_count": 9,
   "metadata": {},
   "outputs": [],
   "source": [
    "page = response.text"
   ]
  },
  {
   "cell_type": "code",
   "execution_count": 10,
   "metadata": {},
   "outputs": [],
   "source": [
    "soup = BeautifulSoup(page, \"lxml\")"
   ]
  },
  {
   "cell_type": "code",
   "execution_count": 82,
   "metadata": {},
   "outputs": [],
   "source": [
    "url3 = 'https://subslikescript.com/series/Bosch-3502248' \n",
    "respond = requests.get(url3)\n",
    "titles = respond.text\n",
    "soupy = BeautifulSoup(titles, \"html.parser\")"
   ]
  },
  {
   "cell_type": "code",
   "execution_count": 84,
   "metadata": {},
   "outputs": [],
   "source": [
    "titles_list = soupy.find('div',class_='series_seasons').find_all('a')\n",
    "bosch_list = []\n",
    "for link in soupy.find_all('a'):\n",
    "    bosch_list.append(link.get('href'))\n",
    "bosch_list = bosch_list[5:]"
   ]
  },
  {
   "cell_type": "code",
   "execution_count": 87,
   "metadata": {},
   "outputs": [
    {
     "data": {
      "text/plain": [
       "['season-1/episode-1-Chapter_One_Tis_the_Season',\n",
       " 'season-1/episode-2-Chapter_Two_Lost_Light',\n",
       " 'season-1/episode-3-Chapter_Three_Blue_Religion',\n",
       " 'season-1/episode-4-Chapter_Four_Fugazi',\n",
       " 'season-1/episode-5-Chapter_Five_Mamas_Boy',\n",
       " 'season-1/episode-6-Chapter_Six_Donkeys_Years',\n",
       " 'season-1/episode-7-Chapter_Seven_Lost_Boys',\n",
       " 'season-1/episode-8-Chapter_Eight_High_Low',\n",
       " 'season-1/episode-9-Chapter_Nine_The_Magic_Castle',\n",
       " 'season-1/episode-10-Chapter_Ten_Us_and_Them',\n",
       " 'season-2/episode-1-Trunk_Music',\n",
       " 'season-2/episode-2-The_Thing_About_Secrets',\n",
       " 'season-2/episode-3-Victim_of_the_Night',\n",
       " 'season-2/episode-4-Whos_Lucky_Now',\n",
       " 'season-2/episode-5-Gone',\n",
       " 'season-2/episode-6-Heart_Attack',\n",
       " 'season-2/episode-7-Exit_Time',\n",
       " 'season-2/episode-8-Follow_the_Money',\n",
       " 'season-2/episode-9-Queen_of_Martyrs',\n",
       " 'season-2/episode-10-Everybody_Counts',\n",
       " 'season-3/episode-1-The_Smog_Cutter',\n",
       " 'season-3/episode-2-The_Four_Last_Things',\n",
       " 'season-3/episode-3-God_Sees',\n",
       " 'season-3/episode-4-El_Compadre',\n",
       " 'season-3/episode-5-Blood_Under_the_Bridge',\n",
       " 'season-3/episode-6-Birdland',\n",
       " 'season-3/episode-7-Right_Play',\n",
       " 'season-3/episode-8-Aye_Papi',\n",
       " 'season-3/episode-9-Clear_Shot',\n",
       " 'season-3/episode-10-The_Sea_King',\n",
       " 'season-5/episode-1-Episode_51',\n",
       " 'season-5/episode-2-Episode_52',\n",
       " 'season-5/episode-4-Episode_54',\n",
       " '/dmca']"
      ]
     },
     "execution_count": 87,
     "metadata": {},
     "output_type": "execute_result"
    }
   ],
   "source": [
    "bosch_list"
   ]
  },
  {
   "cell_type": "code",
   "execution_count": 86,
   "metadata": {},
   "outputs": [],
   "source": [
    "for i, num in enumerate(bosch_list):\n",
    "    bosch_list[i] = num.replace('/series/Bosch-3502248/','')"
   ]
  },
  {
   "cell_type": "code",
   "execution_count": 91,
   "metadata": {},
   "outputs": [],
   "source": [
    "def bosch_data(bosch_list):\n",
    "    bosch_df = []\n",
    "    url = 'https://subslikescript.com/series/Bosch-3502248/{}'\n",
    "    \n",
    "    for ep in bosch_list:\n",
    "        ep_title = ep\n",
    "#         data = requests.get(url)\n",
    "        response = requests.get(url.format(ep))\n",
    "        page = response.text\n",
    "        soup = BeautifulSoup(page, 'lxml')\n",
    "        \n",
    "        scripts = [{\n",
    "                    'ep_id': ep_title,\n",
    "                    'dialogue':soup.find(class_='full-script')\n",
    "                   }]\n",
    "            \n",
    "                \n",
    "        bosch_df.extend(scripts)\n",
    "     \n",
    "    df =  pd.DataFrame(bosch_df)\n",
    "    df = df[['ep_id', 'dialogue']]\n",
    "    \n",
    "    return df"
   ]
  },
  {
   "cell_type": "code",
   "execution_count": 108,
   "metadata": {},
   "outputs": [],
   "source": [
    "bosch_df = bosch_data(bosch_list)"
   ]
  },
  {
   "cell_type": "code",
   "execution_count": 109,
   "metadata": {},
   "outputs": [],
   "source": [
    "bosch_df.to_pickle('bosch_series.pkl')"
   ]
  },
  {
   "cell_type": "code",
   "execution_count": 93,
   "metadata": {},
   "outputs": [],
   "source": [
    "url4 = 'https://subslikescript.com/series/The_Shield-286486' \n",
    "respond = requests.get(url4)\n",
    "titles = respond.text\n",
    "soupy = BeautifulSoup(titles, \"html.parser\")"
   ]
  },
  {
   "cell_type": "code",
   "execution_count": 94,
   "metadata": {},
   "outputs": [],
   "source": [
    "titles_list = soupy.find('div',class_='series_seasons').find_all('a')\n",
    "shield_list = []\n",
    "for link in soupy.find_all('a'):\n",
    "    shield_list.append(link.get('href'))\n",
    "shield_list = shield_list[5:]"
   ]
  },
  {
   "cell_type": "code",
   "execution_count": 95,
   "metadata": {},
   "outputs": [
    {
     "data": {
      "text/plain": [
       "['/series/The_Shield-286486/season-1/episode-1-Pilot',\n",
       " '/series/The_Shield-286486/season-1/episode-2-Our_Gang',\n",
       " '/series/The_Shield-286486/season-1/episode-3-The_Spread',\n",
       " '/series/The_Shield-286486/season-1/episode-4-Dawg_Days',\n",
       " '/series/The_Shield-286486/season-1/episode-5-Blowback',\n",
       " '/series/The_Shield-286486/season-1/episode-6-Cherrypoppers',\n",
       " '/series/The_Shield-286486/season-1/episode-7-Pay_in_Pain',\n",
       " '/series/The_Shield-286486/season-1/episode-8-Cupid__Psycho',\n",
       " '/series/The_Shield-286486/season-1/episode-9-Throwaway',\n",
       " '/series/The_Shield-286486/season-1/episode-10-Dragonchasers',\n",
       " '/series/The_Shield-286486/season-1/episode-11-Carnivores',\n",
       " '/series/The_Shield-286486/season-1/episode-12-Two_Days_of_Blood',\n",
       " '/series/The_Shield-286486/season-1/episode-13-Circles',\n",
       " '/series/The_Shield-286486/season-2/episode-1-The_Quick_Fix',\n",
       " '/series/The_Shield-286486/season-2/episode-2-Dead_Soldiers',\n",
       " '/series/The_Shield-286486/season-2/episode-3-Partners',\n",
       " '/series/The_Shield-286486/season-2/episode-4-Carte_Blanche',\n",
       " '/series/The_Shield-286486/season-2/episode-5-Greenlit',\n",
       " '/series/The_Shield-286486/season-2/episode-6-Homewrecker',\n",
       " '/series/The_Shield-286486/season-2/episode-7-Barnstormers',\n",
       " '/series/The_Shield-286486/season-2/episode-8-Scar_Tissue',\n",
       " '/series/The_Shield-286486/season-2/episode-9-Co-Pilot',\n",
       " '/series/The_Shield-286486/season-2/episode-10-Coyotes',\n",
       " '/series/The_Shield-286486/season-2/episode-11-Inferno',\n",
       " '/series/The_Shield-286486/season-2/episode-12-Breakpoint',\n",
       " '/series/The_Shield-286486/season-2/episode-13-Dominoes_Falling',\n",
       " '/series/The_Shield-286486/season-3/episode-1-Playing_Tight',\n",
       " '/series/The_Shield-286486/season-3/episode-2-Blood_and_Water',\n",
       " '/series/The_Shield-286486/season-3/episode-3-Bottom_Bitch',\n",
       " '/series/The_Shield-286486/season-3/episode-4-Streaks_and_Tips',\n",
       " '/series/The_Shield-286486/season-3/episode-5-Mum',\n",
       " '/series/The_Shield-286486/season-3/episode-6-Posse_Up',\n",
       " '/series/The_Shield-286486/season-3/episode-7-Safe',\n",
       " '/series/The_Shield-286486/season-3/episode-8-Cracking_Ice',\n",
       " '/series/The_Shield-286486/season-3/episode-9-Slipknot',\n",
       " '/series/The_Shield-286486/season-3/episode-10-What_Power_Is',\n",
       " '/series/The_Shield-286486/season-3/episode-11-Strays',\n",
       " '/series/The_Shield-286486/season-3/episode-12-Riceburner',\n",
       " '/series/The_Shield-286486/season-3/episode-13-Fire_in_the_Hole',\n",
       " '/series/The_Shield-286486/season-3/episode-14-All_In',\n",
       " '/series/The_Shield-286486/season-3/episode-15-On_Tilt',\n",
       " '/series/The_Shield-286486/season-4/episode-1-The_Cure',\n",
       " '/series/The_Shield-286486/season-4/episode-2-Grave',\n",
       " '/series/The_Shield-286486/season-4/episode-3-Bang',\n",
       " '/series/The_Shield-286486/season-4/episode-4-Doghouse',\n",
       " '/series/The_Shield-286486/season-4/episode-5-Tar_Baby',\n",
       " '/series/The_Shield-286486/season-4/episode-6-Insurgents',\n",
       " '/series/The_Shield-286486/season-4/episode-7-Hurt',\n",
       " '/series/The_Shield-286486/season-4/episode-8-Cut_Throat',\n",
       " '/series/The_Shield-286486/season-4/episode-9-String_Theory',\n",
       " '/series/The_Shield-286486/season-4/episode-10-Back_in_the_Hole',\n",
       " '/series/The_Shield-286486/season-4/episode-11-A_Thousand_Deaths',\n",
       " '/series/The_Shield-286486/season-4/episode-12-Judas_Priest',\n",
       " '/series/The_Shield-286486/season-4/episode-13-Aint_That_a_Shame',\n",
       " '/series/The_Shield-286486/season-5/episode-1-Extraction',\n",
       " '/series/The_Shield-286486/season-5/episode-2-Enemy_of_Good',\n",
       " '/series/The_Shield-286486/season-5/episode-3-Jailbait',\n",
       " '/series/The_Shield-286486/season-5/episode-4-Tapa_Boca',\n",
       " '/series/The_Shield-286486/season-5/episode-5-Trophy',\n",
       " '/series/The_Shield-286486/season-5/episode-6-Rap_Payback',\n",
       " '/series/The_Shield-286486/season-5/episode-7-Man_Inside',\n",
       " '/series/The_Shield-286486/season-5/episode-8-Kavanaugh',\n",
       " '/series/The_Shield-286486/season-5/episode-9-Smoked',\n",
       " '/series/The_Shield-286486/season-5/episode-10-Of_Mice_and_Lem',\n",
       " '/series/The_Shield-286486/season-5/episode-11-Postpartum',\n",
       " '/series/The_Shield-286486/season-6/episode--Wins_and_Losses',\n",
       " '/series/The_Shield-286486/season-6/episode-1-On_the_Jones',\n",
       " '/series/The_Shield-286486/season-6/episode-2-Baptism_by_Fire',\n",
       " '/series/The_Shield-286486/season-6/episode-3-Back_to_One',\n",
       " '/series/The_Shield-286486/season-6/episode-4-The_New_Guy',\n",
       " '/series/The_Shield-286486/season-6/episode-5-Haunts',\n",
       " '/series/The_Shield-286486/season-6/episode-6-Chasing_Ghosts',\n",
       " '/series/The_Shield-286486/season-6/episode-7-Exiled',\n",
       " '/series/The_Shield-286486/season-6/episode-8-The_Math_of_the_Wrath',\n",
       " '/series/The_Shield-286486/season-6/episode-9-Recoil',\n",
       " '/series/The_Shield-286486/season-6/episode-10-Spanish_Practices',\n",
       " '/series/The_Shield-286486/season-7/episode-1-Coefficient_of_Drag',\n",
       " '/series/The_Shield-286486/season-7/episode-2-Snitch',\n",
       " '/series/The_Shield-286486/season-7/episode-3-Money_Shot',\n",
       " '/series/The_Shield-286486/season-7/episode-4-Genocide',\n",
       " '/series/The_Shield-286486/season-7/episode-5-Game_Face',\n",
       " '/series/The_Shield-286486/season-7/episode-6-Animal_Control',\n",
       " '/series/The_Shield-286486/season-7/episode-7-Bitches_Brew',\n",
       " '/series/The_Shield-286486/season-7/episode-8-Parricide',\n",
       " '/series/The_Shield-286486/season-7/episode-9-Moving_Day',\n",
       " '/series/The_Shield-286486/season-7/episode-10-Party_Line',\n",
       " '/series/The_Shield-286486/season-7/episode-11-Petty_Cash',\n",
       " '/series/The_Shield-286486/season-7/episode-12-Possible_Kill_Screen',\n",
       " '/series/The_Shield-286486/season-7/episode-13-Family_Meeting',\n",
       " '/dmca']"
      ]
     },
     "execution_count": 95,
     "metadata": {},
     "output_type": "execute_result"
    }
   ],
   "source": [
    "shield_list"
   ]
  },
  {
   "cell_type": "code",
   "execution_count": 96,
   "metadata": {},
   "outputs": [],
   "source": [
    "for i, num in enumerate(shield_list):\n",
    "    shield_list[i] = num.replace('/series/The_Shield-286486/','')"
   ]
  },
  {
   "cell_type": "code",
   "execution_count": 104,
   "metadata": {},
   "outputs": [],
   "source": [
    "def shield_data(shield_list):\n",
    "    shield_df = []\n",
    "    url = 'https://subslikescript.com/series/The_Shield-286486/{}'\n",
    "    \n",
    "    for ep in shield_list:\n",
    "        ep_title = ep\n",
    "#         data = requests.get(url)\n",
    "        response = requests.get(url.format(ep))\n",
    "        page = response.text\n",
    "        soup = BeautifulSoup(page, 'lxml')\n",
    "        \n",
    "        scripts = [{\n",
    "                    'ep_id': ep_title,\n",
    "                    'dialogue':soup.find(class_='full-script')\n",
    "                   }]\n",
    "            \n",
    "                \n",
    "        shield_df.extend(scripts)\n",
    "     \n",
    "    df =  pd.DataFrame(shield_df)\n",
    "    df = df[['ep_id', 'dialogue']]\n",
    "    \n",
    "    return df"
   ]
  },
  {
   "cell_type": "code",
   "execution_count": 105,
   "metadata": {},
   "outputs": [],
   "source": [
    "shield_df = shield_data(shield_list)"
   ]
  },
  {
   "cell_type": "code",
   "execution_count": 106,
   "metadata": {},
   "outputs": [
    {
     "data": {
      "text/html": [
       "<div>\n",
       "<style scoped>\n",
       "    .dataframe tbody tr th:only-of-type {\n",
       "        vertical-align: middle;\n",
       "    }\n",
       "\n",
       "    .dataframe tbody tr th {\n",
       "        vertical-align: top;\n",
       "    }\n",
       "\n",
       "    .dataframe thead th {\n",
       "        text-align: right;\n",
       "    }\n",
       "</style>\n",
       "<table border=\"1\" class=\"dataframe\">\n",
       "  <thead>\n",
       "    <tr style=\"text-align: right;\">\n",
       "      <th></th>\n",
       "      <th>ep_id</th>\n",
       "      <th>dialogue</th>\n",
       "    </tr>\n",
       "  </thead>\n",
       "  <tbody>\n",
       "    <tr>\n",
       "      <th>0</th>\n",
       "      <td>season-1/episode-1-Pilot</td>\n",
       "      <td>[[], Read the prepared statement, [], and ask ...</td>\n",
       "    </tr>\n",
       "    <tr>\n",
       "      <th>1</th>\n",
       "      <td>season-1/episode-2-Our_Gang</td>\n",
       "      <td>[[], Previously on The Shield., [], [], Mr. Es...</td>\n",
       "    </tr>\n",
       "    <tr>\n",
       "      <th>2</th>\n",
       "      <td>season-1/episode-3-The_Spread</td>\n",
       "      <td>[[], Previously on The Shield:, [], [], - What...</td>\n",
       "    </tr>\n",
       "    <tr>\n",
       "      <th>3</th>\n",
       "      <td>season-1/episode-4-Dawg_Days</td>\n",
       "      <td>[[], Previously on The Shield:, [], [], I went...</td>\n",
       "    </tr>\n",
       "    <tr>\n",
       "      <th>4</th>\n",
       "      <td>season-1/episode-5-Blowback</td>\n",
       "      <td>[[], Previously on The Shield:, [], [], - I sa...</td>\n",
       "    </tr>\n",
       "    <tr>\n",
       "      <th>5</th>\n",
       "      <td>season-1/episode-6-Cherrypoppers</td>\n",
       "      <td>[[], Previously on The Shield:, [], [], Hooker...</td>\n",
       "    </tr>\n",
       "    <tr>\n",
       "      <th>6</th>\n",
       "      <td>season-1/episode-7-Pay_in_Pain</td>\n",
       "      <td>[[], Previously on The Shield:, [], [], The ne...</td>\n",
       "    </tr>\n",
       "    <tr>\n",
       "      <th>7</th>\n",
       "      <td>season-1/episode-8-Cupid__Psycho</td>\n",
       "      <td>[[], Previously on The Shield:, [], [], - Some...</td>\n",
       "    </tr>\n",
       "    <tr>\n",
       "      <th>8</th>\n",
       "      <td>season-1/episode-9-Throwaway</td>\n",
       "      <td>[[], Previously on The Shield:, [], [], That's...</td>\n",
       "    </tr>\n",
       "    <tr>\n",
       "      <th>9</th>\n",
       "      <td>season-1/episode-10-Dragonchasers</td>\n",
       "      <td>[[], Previously on The Shield:, [], [], Hooker...</td>\n",
       "    </tr>\n",
       "    <tr>\n",
       "      <th>10</th>\n",
       "      <td>season-1/episode-11-Carnivores</td>\n",
       "      <td>[[], Previously on The Shield:, [], [], - I'm ...</td>\n",
       "    </tr>\n",
       "    <tr>\n",
       "      <th>11</th>\n",
       "      <td>season-1/episode-12-Two_Days_of_Blood</td>\n",
       "      <td>[[], Previously on The Shield:, [], [], I'll s...</td>\n",
       "    </tr>\n",
       "    <tr>\n",
       "      <th>12</th>\n",
       "      <td>season-1/episode-13-Circles</td>\n",
       "      <td>[[], Previously on The Shield:, [], [], - Got ...</td>\n",
       "    </tr>\n",
       "    <tr>\n",
       "      <th>13</th>\n",
       "      <td>season-2/episode-1-The_Quick_Fix</td>\n",
       "      <td>[[], I sent Corrine's picture to hotels, [], w...</td>\n",
       "    </tr>\n",
       "    <tr>\n",
       "      <th>14</th>\n",
       "      <td>season-2/episode-2-Dead_Soldiers</td>\n",
       "      <td>[[], Sangre nuevo, homes., [], [], Police. Hol...</td>\n",
       "    </tr>\n",
       "    <tr>\n",
       "      <th>15</th>\n",
       "      <td>season-2/episode-3-Partners</td>\n",
       "      <td>[[], Vic! Come on, dude!, [], [], - Tell me yo...</td>\n",
       "    </tr>\n",
       "    <tr>\n",
       "      <th>16</th>\n",
       "      <td>season-2/episode-4-Carte_Blanche</td>\n",
       "      <td>[[], For his selfless action off-duty, [], sus...</td>\n",
       "    </tr>\n",
       "    <tr>\n",
       "      <th>17</th>\n",
       "      <td>season-2/episode-5-Greenlit</td>\n",
       "      <td>[[], - I hear you're the best., [], - Heat it ...</td>\n",
       "    </tr>\n",
       "    <tr>\n",
       "      <th>18</th>\n",
       "      <td>season-2/episode-6-Homewrecker</td>\n",
       "      <td>[[], Detective Mackey., [], [], Hey, weren't y...</td>\n",
       "    </tr>\n",
       "    <tr>\n",
       "      <th>19</th>\n",
       "      <td>season-2/episode-7-Barnstormers</td>\n",
       "      <td>[[], Bang! You're dead., [], [], Now, on the d...</td>\n",
       "    </tr>\n",
       "  </tbody>\n",
       "</table>\n",
       "</div>"
      ],
      "text/plain": [
       "                                    ep_id  \\\n",
       "0                season-1/episode-1-Pilot   \n",
       "1             season-1/episode-2-Our_Gang   \n",
       "2           season-1/episode-3-The_Spread   \n",
       "3            season-1/episode-4-Dawg_Days   \n",
       "4             season-1/episode-5-Blowback   \n",
       "5        season-1/episode-6-Cherrypoppers   \n",
       "6          season-1/episode-7-Pay_in_Pain   \n",
       "7        season-1/episode-8-Cupid__Psycho   \n",
       "8            season-1/episode-9-Throwaway   \n",
       "9       season-1/episode-10-Dragonchasers   \n",
       "10         season-1/episode-11-Carnivores   \n",
       "11  season-1/episode-12-Two_Days_of_Blood   \n",
       "12            season-1/episode-13-Circles   \n",
       "13       season-2/episode-1-The_Quick_Fix   \n",
       "14       season-2/episode-2-Dead_Soldiers   \n",
       "15            season-2/episode-3-Partners   \n",
       "16       season-2/episode-4-Carte_Blanche   \n",
       "17            season-2/episode-5-Greenlit   \n",
       "18         season-2/episode-6-Homewrecker   \n",
       "19        season-2/episode-7-Barnstormers   \n",
       "\n",
       "                                             dialogue  \n",
       "0   [[], Read the prepared statement, [], and ask ...  \n",
       "1   [[], Previously on The Shield., [], [], Mr. Es...  \n",
       "2   [[], Previously on The Shield:, [], [], - What...  \n",
       "3   [[], Previously on The Shield:, [], [], I went...  \n",
       "4   [[], Previously on The Shield:, [], [], - I sa...  \n",
       "5   [[], Previously on The Shield:, [], [], Hooker...  \n",
       "6   [[], Previously on The Shield:, [], [], The ne...  \n",
       "7   [[], Previously on The Shield:, [], [], - Some...  \n",
       "8   [[], Previously on The Shield:, [], [], That's...  \n",
       "9   [[], Previously on The Shield:, [], [], Hooker...  \n",
       "10  [[], Previously on The Shield:, [], [], - I'm ...  \n",
       "11  [[], Previously on The Shield:, [], [], I'll s...  \n",
       "12  [[], Previously on The Shield:, [], [], - Got ...  \n",
       "13  [[], I sent Corrine's picture to hotels, [], w...  \n",
       "14  [[], Sangre nuevo, homes., [], [], Police. Hol...  \n",
       "15  [[], Vic! Come on, dude!, [], [], - Tell me yo...  \n",
       "16  [[], For his selfless action off-duty, [], sus...  \n",
       "17  [[], - I hear you're the best., [], - Heat it ...  \n",
       "18  [[], Detective Mackey., [], [], Hey, weren't y...  \n",
       "19  [[], Bang! You're dead., [], [], Now, on the d...  "
      ]
     },
     "execution_count": 106,
     "metadata": {},
     "output_type": "execute_result"
    }
   ],
   "source": [
    "shield_df.head(20)"
   ]
  },
  {
   "cell_type": "code",
   "execution_count": 110,
   "metadata": {},
   "outputs": [],
   "source": [
    "shield_df.to_pickle('shield_series.pkl')"
   ]
  },
  {
   "cell_type": "code",
   "execution_count": null,
   "metadata": {},
   "outputs": [],
   "source": []
  },
  {
   "cell_type": "code",
   "execution_count": null,
   "metadata": {},
   "outputs": [],
   "source": []
  },
  {
   "cell_type": "code",
   "execution_count": null,
   "metadata": {},
   "outputs": [],
   "source": [
    "class NLPProcessor:\n",
    "    def __init__(self, vectorizer_class, tokenizer_function, cleaning_function, stemmer_function):\n",
    "        self.vectorizer = vectorizer_class\n",
    "        self.tokenizer = tokenizer_function\n",
    "        self.cleaning_function = cleaning_function\n",
    "        self.stemmer = stemmer_function\n",
    "    def fit(self, corpus_list_to_fit):\n",
    "        corpus_list = [ self.cleaning_function(corpus) for corpus in corpus_list_to_fit ] \n",
    "        corpus_list = [ self.tokenizer(corpus) for corpus in corpus_list ] \n",
    "        corpus_list = [ [ self.stemmer(token) for token in corpus] for corpus in corpus_list ] \n",
    "        return self.vectorizer.fit(corpus_list)\n",
    "    def transform(self, corpus_list_to_clean):\n",
    "        corpus_list = [ self.cleaning_function(corpus) for corpus in corpus_list_to_clean ] \n",
    "        corpus_list = [ self.tokenizer(corpus) for corpus in corpus_list ] \n",
    "        corpus_list = [ [ self.stemmer(token) for token in corpus] for corpus in corpus_list ] \n",
    "        return self.vectorizer.transform(corpus_list)"
   ]
  }
 ],
 "metadata": {
  "kernelspec": {
   "display_name": "Python [conda env:metis] *",
   "language": "python",
   "name": "conda-env-metis-py"
  },
  "language_info": {
   "codemirror_mode": {
    "name": "ipython",
    "version": 3
   },
   "file_extension": ".py",
   "mimetype": "text/x-python",
   "name": "python",
   "nbconvert_exporter": "python",
   "pygments_lexer": "ipython3",
   "version": "3.7.4"
  },
  "toc": {
   "base_numbering": 1,
   "nav_menu": {},
   "number_sections": true,
   "sideBar": true,
   "skip_h1_title": false,
   "title_cell": "Table of Contents",
   "title_sidebar": "Contents",
   "toc_cell": false,
   "toc_position": {},
   "toc_section_display": true,
   "toc_window_display": false
  }
 },
 "nbformat": 4,
 "nbformat_minor": 4
}
