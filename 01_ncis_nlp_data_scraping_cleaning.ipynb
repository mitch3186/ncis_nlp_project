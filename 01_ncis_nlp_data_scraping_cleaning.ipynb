{
 "cells": [
  {
   "cell_type": "markdown",
   "metadata": {},
   "source": [
    "## The CBS Secret Sauce Investigation: NCIS:NLP -- Scraping & Cleaning\n",
    "\n",
    "#### Creator: Mitch Brinkman"
   ]
  },
  {
   "cell_type": "code",
   "execution_count": 1,
   "metadata": {},
   "outputs": [],
   "source": [
    "from bs4 import BeautifulSoup\n",
    "import requests"
   ]
  },
  {
   "cell_type": "code",
   "execution_count": 16,
   "metadata": {},
   "outputs": [
    {
     "name": "stderr",
     "output_type": "stream",
     "text": [
      "[nltk_data] Downloading package punkt to /Users/user/nltk_data...\n",
      "[nltk_data]   Package punkt is already up-to-date!\n",
      "[nltk_data] Downloading package wordnet to /Users/user/nltk_data...\n",
      "[nltk_data]   Package wordnet is already up-to-date!\n"
     ]
    },
    {
     "data": {
      "text/plain": [
       "True"
      ]
     },
     "execution_count": 16,
     "metadata": {},
     "output_type": "execute_result"
    }
   ],
   "source": [
    "import pandas as pd\n",
    "import numpy as np\n",
    "import datetime as dt\n",
    "import matplotlib.pyplot as plt\n",
    "import seaborn as sns\n",
    "import statsmodels.formula.api as smf\n",
    "import patsy\n",
    "import re\n",
    "import pickle\n",
    "import string\n",
    "from sklearn.feature_extraction.text import CountVectorizer\n",
    "from nltk.tokenize import word_tokenize, TreebankWordTokenizer\n",
    "from nltk.stem import PorterStemmer, WordNetLemmatizer \n",
    "from nltk.util import ngrams\n",
    "from nltk.corpus import stopwords\n",
    "import nltk\n",
    "nltk.download('punkt')\n",
    "nltk.download('wordnet')"
   ]
  },
  {
   "cell_type": "code",
   "execution_count": 17,
   "metadata": {},
   "outputs": [],
   "source": [
    "from sklearn.feature_extraction import text \n",
    "from sklearn.feature_extraction.text import CountVectorizer"
   ]
  },
  {
   "cell_type": "code",
   "execution_count": 4,
   "metadata": {},
   "outputs": [],
   "source": [
    "import sys\n",
    "sys.setrecursionlimit(20000)"
   ]
  },
  {
   "cell_type": "code",
   "execution_count": 31,
   "metadata": {},
   "outputs": [
    {
     "ename": "ImportError",
     "evalue": "cannot import name 'NLPProcessor' from 'cbs_func' (/Users/user/Desktop/notes_chi20_ds14/CBS_TV_project4/cbs_tv_nlp_proj4/cbs_func.py)",
     "output_type": "error",
     "traceback": [
      "\u001b[0;31m---------------------------------------------------------------------------\u001b[0m",
      "\u001b[0;31mImportError\u001b[0m                               Traceback (most recent call last)",
      "\u001b[0;32m<ipython-input-31-3b4e8e377a6e>\u001b[0m in \u001b[0;36m<module>\u001b[0;34m\u001b[0m\n\u001b[0;32m----> 1\u001b[0;31m \u001b[0;32mfrom\u001b[0m \u001b[0mcbs_func\u001b[0m \u001b[0;32mimport\u001b[0m \u001b[0mNLPProcessor\u001b[0m\u001b[0;34m\u001b[0m\u001b[0;34m\u001b[0m\u001b[0m\n\u001b[0m",
      "\u001b[0;31mImportError\u001b[0m: cannot import name 'NLPProcessor' from 'cbs_func' (/Users/user/Desktop/notes_chi20_ds14/CBS_TV_project4/cbs_tv_nlp_proj4/cbs_func.py)"
     ]
    }
   ],
   "source": [
    "# from cbs_func import NLPProcessor"
   ]
  },
  {
   "cell_type": "code",
   "execution_count": 6,
   "metadata": {},
   "outputs": [],
   "source": [
    "from cbs_func import make_ep_list\n",
    "from cbs_func import clean_tv_scripts\n",
    "from cbs_func import ncis_data\n",
    "from cbs_func import shield_data\n",
    "from cbs_func import clean_sentiment"
   ]
  },
  {
   "cell_type": "markdown",
   "metadata": {},
   "source": [
    "### Web Scraping"
   ]
  },
  {
   "cell_type": "code",
   "execution_count": null,
   "metadata": {},
   "outputs": [],
   "source": [
    "url_list = ['https://subslikescript.com/series/NCIS-364845','https://subslikescript.com/series/The_Shield-286486']"
   ]
  },
  {
   "cell_type": "markdown",
   "metadata": {},
   "source": [
    "#### NCIS scripts"
   ]
  },
  {
   "cell_type": "code",
   "execution_count": null,
   "metadata": {},
   "outputs": [],
   "source": [
    "ncis_list = make_ep_list(url_list[0])"
   ]
  },
  {
   "cell_type": "code",
   "execution_count": null,
   "metadata": {},
   "outputs": [],
   "source": [
    "for i, num in enumerate(ncis_list):\n",
    "    ncis_list[i] = num.replace('/series/NCIS-364845/','')"
   ]
  },
  {
   "cell_type": "code",
   "execution_count": null,
   "metadata": {},
   "outputs": [],
   "source": [
    "ncis_df = ncis_data(ncis_list)"
   ]
  },
  {
   "cell_type": "code",
   "execution_count": null,
   "metadata": {},
   "outputs": [],
   "source": [
    "ncis_df.set_index('ep_id',inplace=True)\n",
    "ncis_df = ncis_df.astype(str)"
   ]
  },
  {
   "cell_type": "code",
   "execution_count": null,
   "metadata": {},
   "outputs": [],
   "source": [
    "pickle.dump(ncis_df, open(\"./data/raw/ncis_series.pkl\", \"wb\"))"
   ]
  },
  {
   "cell_type": "markdown",
   "metadata": {},
   "source": [
    "#### The Shield scripts"
   ]
  },
  {
   "cell_type": "code",
   "execution_count": null,
   "metadata": {},
   "outputs": [],
   "source": [
    "shield_list = make_ep_list(url_list[1])"
   ]
  },
  {
   "cell_type": "code",
   "execution_count": null,
   "metadata": {},
   "outputs": [],
   "source": [
    "for i, num in enumerate(shield_list):\n",
    "    shield_list[i] = num.replace('/series/The_Shield-286486/','')"
   ]
  },
  {
   "cell_type": "code",
   "execution_count": null,
   "metadata": {},
   "outputs": [],
   "source": [
    "shield_df = shield_data(shield_list)"
   ]
  },
  {
   "cell_type": "code",
   "execution_count": null,
   "metadata": {},
   "outputs": [],
   "source": [
    "shield_df.set_index('ep_id',inplace=True)\n",
    "shield_df = shield_df.astype(str)"
   ]
  },
  {
   "cell_type": "code",
   "execution_count": null,
   "metadata": {},
   "outputs": [],
   "source": [
    "pickle.dump(shield_df, open(\"./data/raw/shield_series.pkl\", \"wb\"))"
   ]
  },
  {
   "cell_type": "markdown",
   "metadata": {},
   "source": [
    "### Cleaning"
   ]
  },
  {
   "cell_type": "code",
   "execution_count": null,
   "metadata": {},
   "outputs": [],
   "source": [
    "add_stop_words = ['tony','abby','dinozzo','uh','um']\n",
    "stop_words = text.ENGLISH_STOP_WORDS.union(add_stop_words)"
   ]
  },
  {
   "cell_type": "code",
   "execution_count": null,
   "metadata": {},
   "outputs": [],
   "source": [
    "def clean_tv_scripts(text):\n",
    "    '''Make text lowercase, remove text in square brackets, \n",
    "    remove punctuation and remove words containing numbers.\n",
    "    '''\n",
    "    text = re.sub('([A-Z]{2,})', ' ', text)\n",
    "    text = text.lower()\n",
    "    text = re.sub('\\[.*?\\]', ' ', text)\n",
    "    text = re.sub('\\<.*?>', ' ', text)\n",
    "    text = re.sub('\\(.*?\\)', ' ', text)\n",
    "    text = re.sub('[%s]' % re.escape(string.punctuation), '', text)\n",
    "    text = re.sub('\\w*\\d\\w*', '', text)\n",
    "    text = re.sub('\\n', ' ', text)\n",
    "    text = re.sub('♪', '', text)\n",
    "    text = re.sub('  ', ' ', text)\n",
    "    text = re.sub('   ', ' ', text)\n",
    "    text = re.sub('    ', ' ', text)\n",
    "    return text\n",
    "\n",
    "big_wash = lambda x: clean_tv_scripts(x)"
   ]
  },
  {
   "cell_type": "markdown",
   "metadata": {},
   "source": [
    "#### Corpus Prep for Sentiment Analysis"
   ]
  },
  {
   "cell_type": "code",
   "execution_count": 7,
   "metadata": {},
   "outputs": [],
   "source": [
    "# # Pickle reload of raw file, for easy drop-in to notebook\n",
    "\n",
    "ncis_df = pd.read_pickle('./data/raw/ncis_series.pkl')\n",
    "shield_df = pd.read_pickle('./data/raw/shield_series.pkl')"
   ]
  },
  {
   "cell_type": "code",
   "execution_count": 8,
   "metadata": {},
   "outputs": [],
   "source": [
    "#index reset and str conversion if necessary\n",
    "\n",
    "# ncis_df.set_index('ep_id',inplace=True)\n",
    "# shield_df.set_index('ep_id',inplace=True)\n",
    "# ncis_df = ncis_df.astype(str)\n",
    "# shield_df = shield_df.astype(str)"
   ]
  },
  {
   "cell_type": "code",
   "execution_count": 9,
   "metadata": {},
   "outputs": [],
   "source": [
    "# creating a simple clean function referencing sentiment clean process\n",
    "first_wash = lambda x: clean_sentiment(x)"
   ]
  },
  {
   "cell_type": "code",
   "execution_count": 10,
   "metadata": {},
   "outputs": [],
   "source": [
    "clean_ncis = pd.DataFrame(ncis_df.dialogue.apply(first_wash))\n",
    "clean_shield = pd.DataFrame(shield_df.dialogue.apply(first_wash))"
   ]
  },
  {
   "cell_type": "code",
   "execution_count": 12,
   "metadata": {},
   "outputs": [],
   "source": [
    "pickle.dump(clean_shield, open(\"./data/processed/shield_sentiment.pkl\", \"wb\"))\n",
    "pickle.dump(clean_ncis, open(\"./data/processed/ncis_sentiment.pkl\", \"wb\"))"
   ]
  },
  {
   "cell_type": "markdown",
   "metadata": {},
   "source": [
    "#### NLP Pipeline Processing"
   ]
  },
  {
   "cell_type": "code",
   "execution_count": null,
   "metadata": {},
   "outputs": [],
   "source": [
    "# # Pickle reload of raw file, for easy drop-in to notebook\n",
    "\n",
    "ncis_df = pd.read_pickle('./data/raw/ncis_series.pkl')\n",
    "shield_df = pd.read_pickle('./data/raw/shield_series.pkl')"
   ]
  },
  {
   "cell_type": "code",
   "execution_count": null,
   "metadata": {},
   "outputs": [],
   "source": [
    "ncis_df.head()"
   ]
  },
  {
   "cell_type": "code",
   "execution_count": 18,
   "metadata": {},
   "outputs": [],
   "source": [
    "class NLPProcessor:\n",
    "    \n",
    "    def __init__(self, vectorizer_class, tokenizer_function, cleaning_function, lemmer_function):\n",
    "        self.vectorizer = vectorizer_class\n",
    "        self.tokenizer = tokenizer_function\n",
    "        self.cleaning_function = cleaning_function\n",
    "        self.lemmer = lemmer_function\n",
    "    \n",
    "    def fit(self, corpus_list_to_fit):\n",
    "        cleaned_corpus = list(map(self.cleaning_function, corpus_list_to_fit))\n",
    "#         print(cleaned_corpus)\n",
    "        tokenized_list = list(map(self.tokenizer, cleaned_corpus))\n",
    "#         print(tokenized_list)\n",
    "        lemmed_list = [' '.join(list(map(self.lemmer, item))) for item in tokenized_list]\n",
    "#         print(lemmed_list)\n",
    "        return self.vectorizer.fit(lemmed_list)\n",
    "    \n",
    "    def transform(self, corpus_list_to_clean):\n",
    "        cleaned_corpus = list(map(self.cleaning_function, corpus_list_to_clean))\n",
    "        tokenized_list = list(map(self.tokenizer, cleaned_corpus))\n",
    "        lemmed_list = [' '.join(list(map(self.lemmer, item))) for item in tokenized_list]\n",
    "        return pd.DataFrame(self.vectorizer.transform(lemmed_list).toarray(), \n",
    "                            columns=self.vectorizer.get_feature_names())"
   ]
  },
  {
   "cell_type": "code",
   "execution_count": null,
   "metadata": {},
   "outputs": [],
   "source": [
    "pd.DataFrame(doc_word.toarray(), index=ex_label, columns=vectorizer.get_feature_names()).head(10)"
   ]
  },
  {
   "cell_type": "markdown",
   "metadata": {},
   "source": [
    "##### NCIS Pipeline"
   ]
  },
  {
   "cell_type": "code",
   "execution_count": 34,
   "metadata": {},
   "outputs": [],
   "source": [
    "nlp = NLPProcessor(CountVectorizer(stop_words='english'), \n",
    "               TreebankWordTokenizer().tokenize, \n",
    "               clean_tv_scripts, \n",
    "               WordNetLemmatizer().lemmatize)\n",
    "\n",
    "nlp.fit(ncis_df['dialogue'])\n",
    "ncis_dtm = nlp.transform(ncis_df['dialogue'])"
   ]
  },
  {
   "cell_type": "code",
   "execution_count": null,
   "metadata": {},
   "outputs": [],
   "source": [
    "ncis_big_vocab = nlp.vectorizer\n",
    "pickle.dump(ncis_big_vocab, open(\"ncis_cv.pkl\", \"wb\"))"
   ]
  },
  {
   "cell_type": "code",
   "execution_count": null,
   "metadata": {},
   "outputs": [],
   "source": [
    "nlp = NLPProcessor(CountVectorizer(stop_words=stop_words,max_df=.95,\n",
    "                                  min_df=.05), \n",
    "               TreebankWordTokenizer().tokenize, \n",
    "               clean_tv_scripts, \n",
    "               WordNetLemmatizer().lemmatize)\n",
    "\n",
    "nlp.fit(ncis_df['dialogue'])\n",
    "ncis_dtm_stopmm = nlp.transform(ncis_df['dialogue'])"
   ]
  },
  {
   "cell_type": "code",
   "execution_count": null,
   "metadata": {},
   "outputs": [],
   "source": [
    "ncis_vocab = nlp.vectorizer\n",
    "pickle.dump(ncis_vocab, open(\"ncis_cv_stopmm.pkl\", \"wb\"))"
   ]
  },
  {
   "cell_type": "markdown",
   "metadata": {},
   "source": [
    "##### The Shield Pipeline"
   ]
  },
  {
   "cell_type": "code",
   "execution_count": 19,
   "metadata": {},
   "outputs": [],
   "source": [
    "nlp = NLPProcessor(CountVectorizer(stop_words='english'), \n",
    "               TreebankWordTokenizer().tokenize, \n",
    "               clean_tv_scripts, \n",
    "               WordNetLemmatizer().lemmatize)\n",
    "\n",
    "nlp.fit(shield_df['dialogue'])\n",
    "shield_dtm = nlp.transform(shield_df['dialogue'])"
   ]
  },
  {
   "cell_type": "code",
   "execution_count": 21,
   "metadata": {},
   "outputs": [],
   "source": [
    "shield_big_vocab = nlp.vectorizer\n",
    "pickle.dump(shield_big_vocab, open(\"./data/cross_vec/shield_cv.pkl\", \"wb\"))"
   ]
  },
  {
   "cell_type": "code",
   "execution_count": null,
   "metadata": {},
   "outputs": [],
   "source": [
    "nlp = NLPProcessor(CountVectorizer(stop_words='english',max_df=.95,min_df=.05), \n",
    "               TreebankWordTokenizer().tokenize, \n",
    "               clean_tv_scripts, \n",
    "               WordNetLemmatizer().lemmatize)\n",
    "\n",
    "nlp.fit(shield_df['dialogue'])\n",
    "shield_dtm_stopmm = nlp.transform(shield_df['dialogue'])"
   ]
  },
  {
   "cell_type": "code",
   "execution_count": null,
   "metadata": {},
   "outputs": [],
   "source": [
    "shield_vocab = nlp.vectorizer\n",
    "pickle.dump(shield_vocab, open(\"./data/cross_vec/shield_cv_stopmm.pkl\", \"wb\"))"
   ]
  },
  {
   "cell_type": "markdown",
   "metadata": {},
   "source": [
    "##### Pickling & Indexing Each DTM for Modeling"
   ]
  },
  {
   "cell_type": "code",
   "execution_count": 35,
   "metadata": {},
   "outputs": [
    {
     "ename": "NameError",
     "evalue": "name 'ncis_dtm_stopmm' is not defined",
     "output_type": "error",
     "traceback": [
      "\u001b[0;31m---------------------------------------------------------------------------\u001b[0m",
      "\u001b[0;31mNameError\u001b[0m                                 Traceback (most recent call last)",
      "\u001b[0;32m<ipython-input-35-3e8a08e62a32>\u001b[0m in \u001b[0;36m<module>\u001b[0;34m\u001b[0m\n\u001b[1;32m      1\u001b[0m \u001b[0mncis_dtm\u001b[0m\u001b[0;34m.\u001b[0m\u001b[0mindex\u001b[0m \u001b[0;34m=\u001b[0m \u001b[0mncis_df\u001b[0m\u001b[0;34m.\u001b[0m\u001b[0mindex\u001b[0m\u001b[0;34m\u001b[0m\u001b[0;34m\u001b[0m\u001b[0m\n\u001b[0;32m----> 2\u001b[0;31m \u001b[0mncis_dtm_stopmm\u001b[0m\u001b[0;34m.\u001b[0m\u001b[0mindex\u001b[0m \u001b[0;34m=\u001b[0m \u001b[0mncis_df\u001b[0m\u001b[0;34m.\u001b[0m\u001b[0mindex\u001b[0m\u001b[0;34m\u001b[0m\u001b[0;34m\u001b[0m\u001b[0m\n\u001b[0m\u001b[1;32m      3\u001b[0m \u001b[0mshield_dtm\u001b[0m\u001b[0;34m.\u001b[0m\u001b[0mindex\u001b[0m \u001b[0;34m=\u001b[0m \u001b[0mshield_df\u001b[0m\u001b[0;34m.\u001b[0m\u001b[0mindex\u001b[0m\u001b[0;34m\u001b[0m\u001b[0;34m\u001b[0m\u001b[0m\n\u001b[1;32m      4\u001b[0m \u001b[0mshield_dtm_stopmm\u001b[0m\u001b[0;34m.\u001b[0m\u001b[0mindex\u001b[0m \u001b[0;34m=\u001b[0m \u001b[0mshield_df\u001b[0m\u001b[0;34m.\u001b[0m\u001b[0mindex\u001b[0m\u001b[0;34m\u001b[0m\u001b[0;34m\u001b[0m\u001b[0m\n",
      "\u001b[0;31mNameError\u001b[0m: name 'ncis_dtm_stopmm' is not defined"
     ]
    }
   ],
   "source": [
    "ncis_dtm.index = ncis_df.index\n",
    "ncis_dtm_stopmm.index = ncis_df.index\n",
    "shield_dtm.index = shield_df.index\n",
    "shield_dtm_stopmm.index = shield_df.index"
   ]
  },
  {
   "cell_type": "code",
   "execution_count": 36,
   "metadata": {},
   "outputs": [
    {
     "ename": "NameError",
     "evalue": "name 'ncis_dtm_stopmm' is not defined",
     "output_type": "error",
     "traceback": [
      "\u001b[0;31m---------------------------------------------------------------------------\u001b[0m",
      "\u001b[0;31mNameError\u001b[0m                                 Traceback (most recent call last)",
      "\u001b[0;32m<ipython-input-36-c584cab5b7ac>\u001b[0m in \u001b[0;36m<module>\u001b[0;34m\u001b[0m\n\u001b[1;32m      1\u001b[0m \u001b[0mpickle\u001b[0m\u001b[0;34m.\u001b[0m\u001b[0mdump\u001b[0m\u001b[0;34m(\u001b[0m\u001b[0mncis_dtm\u001b[0m\u001b[0;34m,\u001b[0m \u001b[0mopen\u001b[0m\u001b[0;34m(\u001b[0m\u001b[0;34m\"./data/dtm/ncis_dtm.pkl\"\u001b[0m\u001b[0;34m,\u001b[0m \u001b[0;34m\"wb\"\u001b[0m\u001b[0;34m)\u001b[0m\u001b[0;34m)\u001b[0m\u001b[0;34m\u001b[0m\u001b[0;34m\u001b[0m\u001b[0m\n\u001b[0;32m----> 2\u001b[0;31m \u001b[0mpickle\u001b[0m\u001b[0;34m.\u001b[0m\u001b[0mdump\u001b[0m\u001b[0;34m(\u001b[0m\u001b[0mncis_dtm_stopmm\u001b[0m\u001b[0;34m,\u001b[0m \u001b[0mopen\u001b[0m\u001b[0;34m(\u001b[0m\u001b[0;34m\"./data/dtm/ncis_dtm_stopmm.pkl\"\u001b[0m\u001b[0;34m,\u001b[0m \u001b[0;34m\"wb\"\u001b[0m\u001b[0;34m)\u001b[0m\u001b[0;34m)\u001b[0m\u001b[0;34m\u001b[0m\u001b[0;34m\u001b[0m\u001b[0m\n\u001b[0m\u001b[1;32m      3\u001b[0m \u001b[0mpickle\u001b[0m\u001b[0;34m.\u001b[0m\u001b[0mdump\u001b[0m\u001b[0;34m(\u001b[0m\u001b[0mshield_dtm\u001b[0m\u001b[0;34m,\u001b[0m \u001b[0mopen\u001b[0m\u001b[0;34m(\u001b[0m\u001b[0;34m\"./data/dtm/shield_dtm.pkl\"\u001b[0m\u001b[0;34m,\u001b[0m \u001b[0;34m\"wb\"\u001b[0m\u001b[0;34m)\u001b[0m\u001b[0;34m)\u001b[0m\u001b[0;34m\u001b[0m\u001b[0;34m\u001b[0m\u001b[0m\n\u001b[1;32m      4\u001b[0m \u001b[0mpickle\u001b[0m\u001b[0;34m.\u001b[0m\u001b[0mdump\u001b[0m\u001b[0;34m(\u001b[0m\u001b[0mshield_dtm_stopmm\u001b[0m\u001b[0;34m,\u001b[0m \u001b[0mopen\u001b[0m\u001b[0;34m(\u001b[0m\u001b[0;34m\"./data/dtm/shield_dtm_stopmm.pkl\"\u001b[0m\u001b[0;34m,\u001b[0m \u001b[0;34m\"wb\"\u001b[0m\u001b[0;34m)\u001b[0m\u001b[0;34m)\u001b[0m\u001b[0;34m\u001b[0m\u001b[0;34m\u001b[0m\u001b[0m\n",
      "\u001b[0;31mNameError\u001b[0m: name 'ncis_dtm_stopmm' is not defined"
     ]
    }
   ],
   "source": [
    "pickle.dump(ncis_dtm, open(\"./data/dtm/ncis_dtm.pkl\", \"wb\"))\n",
    "pickle.dump(ncis_dtm_stopmm, open(\"./data/dtm/ncis_dtm_stopmm.pkl\", \"wb\"))\n",
    "pickle.dump(shield_dtm, open(\"./data/dtm/shield_dtm.pkl\", \"wb\"))\n",
    "pickle.dump(shield_dtm_stopmm, open(\"./data/dtm/shield_dtm_stopmm.pkl\", \"wb\"))"
   ]
  },
  {
   "cell_type": "code",
   "execution_count": null,
   "metadata": {},
   "outputs": [],
   "source": []
  }
 ],
 "metadata": {
  "kernelspec": {
   "display_name": "Python [conda env:metis] *",
   "language": "python",
   "name": "conda-env-metis-py"
  },
  "language_info": {
   "codemirror_mode": {
    "name": "ipython",
    "version": 3
   },
   "file_extension": ".py",
   "mimetype": "text/x-python",
   "name": "python",
   "nbconvert_exporter": "python",
   "pygments_lexer": "ipython3",
   "version": "3.7.4"
  },
  "toc": {
   "base_numbering": 1,
   "nav_menu": {},
   "number_sections": false,
   "sideBar": true,
   "skip_h1_title": false,
   "title_cell": "Table of Contents",
   "title_sidebar": "Contents",
   "toc_cell": false,
   "toc_position": {
    "height": "calc(100% - 180px)",
    "left": "10px",
    "top": "150px",
    "width": "256px"
   },
   "toc_section_display": true,
   "toc_window_display": true
  }
 },
 "nbformat": 4,
 "nbformat_minor": 4
}
